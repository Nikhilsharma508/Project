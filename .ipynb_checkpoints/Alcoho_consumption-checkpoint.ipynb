{
 "cells": [
  {
   "cell_type": "markdown",
   "metadata": {},
   "source": [
    "https://github.com/123harshil/Alcohol-Consumption-Analysis/blob/main/russian_alcohol_consumption.csv\n",
    "\n",
    "# Goal: Preferred area to run promotion a drink company\n",
    "Our company owns a chain Of stores across Russia that sell variety of alcohol drinks. The company recently ran a wine promotion in St Petersburg That was very successful due to the coast to the business They haven't been so much money to run in all the regions The marketing team would like to target 10 other regions that are similar buying habit to send Petersburg where they would expect the promotion to be similarly successful.\n",
    "\n",
    "## 1. The Datasets\n",
    "Historical sales volume per capita for different drink types.\n",
    "\n",
    "### 1.1 Key Variables\n",
    "- \"year\" - year (1998-2016)\n",
    "- \"region\" - name of a federal subject of Russia. It could be oblast, republic, krai, autonomous okrug, federal city and a single autonomous oblast\n",
    "- \"wine\" - sale of wine in litres by year per capita\n",
    "- \"beer\" - sale of beer in litres by year per capita\n",
    "- \"vodka\" - sale of vodka in litres by year per capita\n",
    "- \"champagne\" - sale of champagne in litres by year per capita\n",
    "- \"brandy\" - sale of brandy in litres by year per capita\n",
    "* Here, `per capita` (per person) is used to determine how certain metrics apply to a population."
   ]
  },
  {
   "cell_type": "code",
   "execution_count": 2,
   "metadata": {},
   "outputs": [],
   "source": [
    "# Import all necessary modules\n",
    "import matplotlib.pyplot as plt\n",
    "import seaborn as sns\n",
    "import pandas as pd\n",
    "import numpy as np"
   ]
  },
  {
   "cell_type": "code",
   "execution_count": null,
   "metadata": {},
   "outputs": [],
   "source": [
    "df = pd.read_csv(r'Data/russian_alcohol_consumption.csv')"
   ]
  }
 ],
 "metadata": {
  "kernelspec": {
   "display_name": "Python 3",
   "language": "python",
   "name": "python3"
  },
  "language_info": {
   "codemirror_mode": {
    "name": "ipython",
    "version": 3
   },
   "file_extension": ".py",
   "mimetype": "text/x-python",
   "name": "python",
   "nbconvert_exporter": "python",
   "pygments_lexer": "ipython3",
   "version": "3.11.5"
  }
 },
 "nbformat": 4,
 "nbformat_minor": 2
}
